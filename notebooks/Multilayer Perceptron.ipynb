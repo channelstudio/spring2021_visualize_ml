{
"cells": [
{
"cell_type": "code",
"execution_count": 1,
"metadata": {},
"outputs": [],
"source": [
"# Loading the dataset\n",
"# https://www.tensorflow.org/tutorials/quickstart/advanced"
]
},
{
"cell_type": "code",
"execution_count": 2,
"metadata": {},
"outputs": [],
"source": [
"import tensorflow as tf\n",
"import numpy as np\n",
"\n",
"mnist = tf.keras.datasets.mnist"
]
},
{
"cell_type": "code",
"execution_count": 3,
"metadata": {
"scrolled": true
},
"outputs": [],
"source": [
"(x_train, y_train), (x_test, y_test) = mnist.load_data()\n",
"\n",
"x_train_flat = np.vstack([img.reshape(-1,) for img in x_train])\n",
"x_test_flat = np.vstack([img.reshape(-1,) for img in x_test])"
]
},
{
"cell_type": "code",
"execution_count": 11,
"metadata": {},
"outputs": [
{
"data": {
"image/png": "[encoded data removed]",
"text/plain": [
"<Figure size 432x288 with 10 Axes>"
]
},
"metadata": {},
"output_type": "display_data"
}
],
"source": [
"import matplotlib.pyplot as plt\n",
"\n",
"fig, ax = plt.subplots(nrows=2, ncols=5,\n",
"                       sharex=True, sharey=True)\n",
"ax = ax.flatten()\n",
"for i in range(10):\n",
"    img = x_train_flat[y_train == i][0].reshape(28, 28)\n",
"    ax[i].imshow(img, cmap='Greys')\n",
"\n",
"ax[0].set_yticks([])\n",
"ax[0].set_xticks([])\n",
"plt.tight_layout()\n",
"plt.show()"
]
},
{
"cell_type": "code",
"execution_count": 5,
"metadata": {},
"outputs": [],
"source": [
"y_train_onehot = tf.keras.utils.to_categorical(y_train)"
]
},
{
"cell_type": "code",
"execution_count": 6,
"metadata": {},
"outputs": [],
"source": [
"import tensorflow.keras as keras\n",
"\n",
"# initialize model\n",
"model = keras.models.Sequential()\n",
"\n",
"# add input layer\n",
"model.add(keras.layers.Dense(\n",
"    units=50,\n",
"    input_dim=x_train_flat.shape[1],\n",
"    activation='sigmoid') \n",
")\n",
"# add hidden layer\n",
"model.add(\n",
"    keras.layers.Dense(\n",
"        units=50,\n",
"        input_dim=50,\n",
"        activation='sigmoid')\n",
"    )\n",
"# add output layer\n",
"model.add(\n",
"    keras.layers.Dense(\n",
"        units=y_train_onehot.shape[1],\n",
"        input_dim=50,\n",
"        activation='softmax')\n",
"    )\n",
"\n",
"# define SGD optimizer\n",
"sgd_optimizer = keras.optimizers.SGD(\n",
"    lr=0.001, decay=1e-7, momentum=0.9\n",
")\n",
"# compile model\n",
"model.compile(\n",
"    optimizer=sgd_optimizer,\n",
"    loss='categorical_crossentropy'\n",
")"
]
},
{
"cell_type": "code",
"execution_count": 7,
"metadata": {},
"outputs": [
{
"name": "stdout",
"output_type": "stream",
"text": [
"Model: \"sequential\"\n",
"_________________________________________________________________\n",
"Layer (type)                 Output Shape              Param #   \n",
"=================================================================\n",
"dense (Dense)                (None, 50)                39250     \n",
"_________________________________________________________________\n",
"dense_1 (Dense)              (None, 50)                2550      \n",
"_________________________________________________________________\n",
"dense_2 (Dense)              (None, 10)                510       \n",
"=================================================================\n",
"Total params: 42,310\n",
"Trainable params: 42,310\n",
"Non-trainable params: 0\n",
"_________________________________________________________________\n"
]
}
],
"source": [
"model.summary()"
]
},
{
"cell_type": "code",
"execution_count": 8,
"metadata": {
"scrolled": true
},
"outputs": [
{
"name": "stdout",
"output_type": "stream",
"text": [
"Train on 54000 samples, validate on 6000 samples\n",
"Epoch 1/50\n",
"54000/54000 [==============================] - 2s 42us/sample - loss: 2.0019 - val_loss: 1.6755\n",
"Epoch 2/50\n",
"54000/54000 [==============================] - 1s 26us/sample - loss: 1.4271 - val_loss: 1.1496\n",
"Epoch 3/50\n",
"54000/54000 [==============================] - 1s 26us/sample - loss: 1.0110 - val_loss: 0.8161\n",
"Epoch 4/50\n",
"54000/54000 [==============================] - 1s 26us/sample - loss: 0.7676 - val_loss: 0.6336\n",
"Epoch 5/50\n",
"54000/54000 [==============================] - 1s 27us/sample - loss: 0.6219 - val_loss: 0.5206\n",
"Epoch 6/50\n",
"54000/54000 [==============================] - 1s 26us/sample - loss: 0.5332 - val_loss: 0.4476\n",
"Epoch 7/50\n",
"54000/54000 [==============================] - 1s 26us/sample - loss: 0.4720 - val_loss: 0.3941\n",
"Epoch 8/50\n",
"54000/54000 [==============================] - 1s 26us/sample - loss: 0.4299 - val_loss: 0.3599\n",
"Epoch 9/50\n",
"54000/54000 [==============================] - 1s 26us/sample - loss: 0.3971 - val_loss: 0.3275\n",
"Epoch 10/50\n",
"54000/54000 [==============================] - 1s 27us/sample - loss: 0.3770 - val_loss: 0.3148\n",
"Epoch 11/50\n",
"54000/54000 [==============================] - 1s 27us/sample - loss: 0.3540 - val_loss: 0.2958\n",
"Epoch 12/50\n",
"54000/54000 [==============================] - 1s 26us/sample - loss: 0.3387 - val_loss: 0.2889\n",
"Epoch 13/50\n",
"54000/54000 [==============================] - 1s 26us/sample - loss: 0.3278 - val_loss: 0.2779\n",
"Epoch 14/50\n",
"54000/54000 [==============================] - 1s 26us/sample - loss: 0.3265 - val_loss: 0.2820\n",
"Epoch 15/50\n",
"54000/54000 [==============================] - 1s 26us/sample - loss: 0.3094 - val_loss: 0.2544\n",
"Epoch 16/50\n",
"54000/54000 [==============================] - 1s 26us/sample - loss: 0.3014 - val_loss: 0.2584\n",
"Epoch 17/50\n",
"54000/54000 [==============================] - 1s 26us/sample - loss: 0.2922 - val_loss: 0.2475\n",
"Epoch 18/50\n",
"54000/54000 [==============================] - 1s 26us/sample - loss: 0.2861 - val_loss: 0.2474\n",
"Epoch 19/50\n",
"54000/54000 [==============================] - 1s 26us/sample - loss: 0.2849 - val_loss: 0.2463\n",
"Epoch 20/50\n",
"54000/54000 [==============================] - 1s 26us/sample - loss: 0.2806 - val_loss: 0.2434\n",
"Epoch 21/50\n",
"54000/54000 [==============================] - 1s 26us/sample - loss: 0.2757 - val_loss: 0.2366\n",
"Epoch 22/50\n",
"54000/54000 [==============================] - 1s 26us/sample - loss: 0.2674 - val_loss: 0.2361\n",
"Epoch 23/50\n",
"54000/54000 [==============================] - 1s 26us/sample - loss: 0.2717 - val_loss: 0.2312\n",
"Epoch 24/50\n",
"54000/54000 [==============================] - 1s 26us/sample - loss: 0.2606 - val_loss: 0.2193\n",
"Epoch 25/50\n",
"54000/54000 [==============================] - 1s 26us/sample - loss: 0.2516 - val_loss: 0.2214\n",
"Epoch 26/50\n",
"54000/54000 [==============================] - 1s 26us/sample - loss: 0.2469 - val_loss: 0.2188\n",
"Epoch 27/50\n",
"54000/54000 [==============================] - 1s 27us/sample - loss: 0.2426 - val_loss: 0.2130\n",
"Epoch 28/50\n",
"54000/54000 [==============================] - 1s 27us/sample - loss: 0.2420 - val_loss: 0.2022\n",
"Epoch 29/50\n",
"54000/54000 [==============================] - 2s 28us/sample - loss: 0.2356 - val_loss: 0.2069\n",
"Epoch 30/50\n",
"54000/54000 [==============================] - 2s 28us/sample - loss: 0.2386 - val_loss: 0.2035\n",
"Epoch 31/50\n",
"54000/54000 [==============================] - 1s 27us/sample - loss: 0.2361 - val_loss: 0.2017\n",
"Epoch 32/50\n",
"54000/54000 [==============================] - 1s 26us/sample - loss: 0.2292 - val_loss: 0.2020\n",
"Epoch 33/50\n",
"54000/54000 [==============================] - 1s 27us/sample - loss: 0.2268 - val_loss: 0.1982\n",
"Epoch 34/50\n",
"54000/54000 [==============================] - 2s 28us/sample - loss: 0.2278 - val_loss: 0.1960\n",
"Epoch 35/50\n",
"54000/54000 [==============================] - 1s 27us/sample - loss: 0.2207 - val_loss: 0.1840\n",
"Epoch 36/50\n",
"54000/54000 [==============================] - 1s 27us/sample - loss: 0.2201 - val_loss: 0.1977\n",
"Epoch 37/50\n",
"54000/54000 [==============================] - 1s 27us/sample - loss: 0.2176 - val_loss: 0.1811\n",
"Epoch 38/50\n",
"54000/54000 [==============================] - 1s 27us/sample - loss: 0.2107 - val_loss: 0.1802\n",
"Epoch 39/50\n",
"54000/54000 [==============================] - 1s 27us/sample - loss: 0.2067 - val_loss: 0.1825\n",
"Epoch 40/50\n",
"54000/54000 [==============================] - 1s 27us/sample - loss: 0.2119 - val_loss: 0.1858\n",
"Epoch 41/50\n",
"54000/54000 [==============================] - 1s 27us/sample - loss: 0.2059 - val_loss: 0.1775\n",
"Epoch 42/50\n",
"54000/54000 [==============================] - 1s 26us/sample - loss: 0.2017 - val_loss: 0.1773\n",
"Epoch 43/50\n",
"54000/54000 [==============================] - 1s 26us/sample - loss: 0.2001 - val_loss: 0.1742\n",
"Epoch 44/50\n",
"54000/54000 [==============================] - 1s 27us/sample - loss: 0.2015 - val_loss: 0.1805\n",
"Epoch 45/50\n",
"54000/54000 [==============================] - 2s 28us/sample - loss: 0.2020 - val_loss: 0.1824\n",
"Epoch 46/50\n",
"54000/54000 [==============================] - 2s 28us/sample - loss: 0.2074 - val_loss: 0.1823\n",
"Epoch 47/50\n",
"54000/54000 [==============================] - 1s 27us/sample - loss: 0.2027 - val_loss: 0.1742\n",
"Epoch 48/50\n",
"54000/54000 [==============================] - 1s 27us/sample - loss: 0.1954 - val_loss: 0.1769\n",
"Epoch 49/50\n",
"54000/54000 [==============================] - 1s 27us/sample - loss: 0.1909 - val_loss: 0.1719\n",
"Epoch 50/50\n",
"54000/54000 [==============================] - 1s 27us/sample - loss: 0.1938 - val_loss: 0.1754\n"
]
}
],
"source": [
"history = model.fit(\n",
"    x_train_flat, y_train_onehot,\n",
"    batch_size=64, epochs=50,\n",
"    verbose=1, validation_split=0.1\n",
")"
]
},
{
"cell_type": "code",
"execution_count": 9,
"metadata": {},
"outputs": [
{
"name": "stdout",
"output_type": "stream",
"text": [
"Training accuracy:\n",
"94.51833333333333\n",
"Test accuracy:\n",
"93.93\n"
]
}
],
"source": [
"# calculate training accuracy\n",
"y_train_pred = model.predict_classes(x_train_flat, verbose=0)\n",
"correct_preds = np.sum(y_train == y_train_pred, axis=0)\n",
"train_acc = correct_preds / y_train.shape[0]\n",
"\n",
"print('Training accuracy:')\n",
"print(train_acc * 100)\n",
"\n",
"# calculate testing accuracy\n",
"y_test_pred = model.predict_classes(x_test_flat, verbose=0)\n",
"correct_preds = np.sum(y_test == y_test_pred, axis=0)\n",
"test_acc = correct_preds / y_test.shape[0]\n",
"\n",
"print('Test accuracy:')\n",
"print(test_acc * 100)"
]
},
{
"cell_type": "code",
"execution_count": 10,
"metadata": {},
"outputs": [
{
"data": {
"image/png": "[encoded data removed]",
"text/plain": [
"<Figure size 432x288 with 1 Axes>"
]
},
"metadata": {
"needs_background": "light"
},
"output_type": "display_data"
}
],
"source": [
"# Plot training & validation loss values\n",
"plt.plot(history.history['loss'])\n",
"plt.plot(history.history['val_loss'])\n",
"plt.title('Model loss')\n",
"plt.ylabel('Loss')\n",
"plt.xlabel('Epoch')\n",
"plt.legend(['Train', 'Test'], loc='upper left')\n",
"plt.show()\n"
]
}
],
"metadata": {
"kernelspec": {
"display_name": "Python 3",
"language": "python",
"name": "python3"
},
"language_info": {
"codemirror_mode": {
"name": "ipython",
"version": 3
},
"file_extension": ".py",
"mimetype": "text/x-python",
"name": "python",
"nbconvert_exporter": "python",
"pygments_lexer": "ipython3",
"version": "3.7.4"
}
},
"nbformat": 4,
"nbformat_minor": 2
}