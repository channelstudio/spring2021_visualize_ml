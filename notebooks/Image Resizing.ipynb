{
 "cells": [
  {
   "cell_type": "code",
   "execution_count": 3,
   "id": "chemical-british",
   "metadata": {},
   "outputs": [],
   "source": [
    "import glob\n",
    "from PIL import Image\n",
    "\n",
    "images = glob.glob('./images/**/*.jpg')"
   ]
  },
  {
   "cell_type": "code",
   "execution_count": 16,
   "id": "greatest-commitment",
   "metadata": {},
   "outputs": [],
   "source": [
    "! mkdir resized"
   ]
  },
  {
   "cell_type": "code",
   "execution_count": 17,
   "id": "noted-campaign",
   "metadata": {},
   "outputs": [],
   "source": [
    "for image_name in images:\n",
    "    image = Image.open(image_name)\n",
    "    image.thumbnail((60, 60))\n",
    "\n",
    "    image_name = image_name.replace('./', '').replace('/', '_')\n",
    "    image.save('resized/' + image_name)"
   ]
  },
  {
   "cell_type": "code",
   "execution_count": 18,
   "id": "nutritional-entrance",
   "metadata": {},
   "outputs": [],
   "source": [
    "! open resized"
   ]
  },
  {
   "cell_type": "code",
   "execution_count": null,
   "id": "rapid-nutrition",
   "metadata": {},
   "outputs": [],
   "source": []
  }
 ],
 "metadata": {
  "kernelspec": {
   "display_name": "Python 3",
   "language": "python",
   "name": "python3"
  },
  "language_info": {
   "codemirror_mode": {
    "name": "ipython",
    "version": 3
   },
   "file_extension": ".py",
   "mimetype": "text/x-python",
   "name": "python",
   "nbconvert_exporter": "python",
   "pygments_lexer": "ipython3",
   "version": "3.8.7"
  }
 },
 "nbformat": 4,
 "nbformat_minor": 5
}
